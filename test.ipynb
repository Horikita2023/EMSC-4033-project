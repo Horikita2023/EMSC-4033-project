{
 "cells": [
  {
   "cell_type": "code",
   "execution_count": 76,
   "id": "78fea24a-5e49-4a83-92a8-b0cebac52dc9",
   "metadata": {},
   "outputs": [],
   "source": [
    "from assets import functions\n"
   ]
  },
  {
   "cell_type": "code",
   "execution_count": 77,
   "id": "2dce6eba-9ebe-4cb0-88c6-b61f37c5ac59",
   "metadata": {},
   "outputs": [
    {
     "name": "stdout",
     "output_type": "stream",
     "text": [
      "\u001b[1m============================= test session starts ==============================\u001b[0m\n",
      "platform linux -- Python 3.9.7, pytest-7.1.2, pluggy-1.0.0\n",
      "rootdir: /home/jupyter-u7519655/EMSC-4033-project/Jupyter Notebook(s) (& Code)\n",
      "plugins: anyio-3.5.0\n",
      "collected 5 items                                                              \u001b[0m\u001b[1m\n",
      "\n",
      "tests/test_functions.py \u001b[32m.\u001b[0m\u001b[32m.\u001b[0m\u001b[32m.\u001b[0m\u001b[32m.\u001b[0m\u001b[32m.\u001b[0m\u001b[32m                                        [100%]\u001b[0m\n",
      "\n",
      "\u001b[32m============================== \u001b[32m\u001b[1m5 passed\u001b[0m\u001b[32m in 20.49s\u001b[0m\u001b[32m ==============================\u001b[0m\n"
     ]
    }
   ],
   "source": [
    "! pytest"
   ]
  },
  {
   "cell_type": "code",
   "execution_count": null,
   "id": "4889b29d-fc98-46c6-9da4-038ff6f1e1ed",
   "metadata": {},
   "outputs": [],
   "source": []
  }
 ],
 "metadata": {
  "kernelspec": {
   "display_name": "Python 3 (ipykernel)",
   "language": "python",
   "name": "python3"
  },
  "language_info": {
   "codemirror_mode": {
    "name": "ipython",
    "version": 3
   },
   "file_extension": ".py",
   "mimetype": "text/x-python",
   "name": "python",
   "nbconvert_exporter": "python",
   "pygments_lexer": "ipython3",
   "version": "3.9.7"
  }
 },
 "nbformat": 4,
 "nbformat_minor": 5
}
